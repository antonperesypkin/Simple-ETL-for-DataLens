{
 "cells": [
  {
   "cell_type": "markdown",
   "id": "44811e94",
   "metadata": {},
   "source": [
    "# Импорт библиотек и создание подключений к БД"
   ]
  },
  {
   "cell_type": "code",
   "execution_count": null,
   "id": "579a7c2c",
   "metadata": {},
   "outputs": [],
   "source": [
    "import pandas as pd\n",
    "\n",
    "from sqlalchemy import create_engine\n",
    "from sqlalchemy.engine import URL\n",
    "\n",
    "from clickhouse_driver import Client\n",
    "\n",
    "import os"
   ]
  },
  {
   "cell_type": "markdown",
   "id": "856a3b3d",
   "metadata": {},
   "source": [
    "Сonnection string для Microsost SQL Server (где server_name - имя сервера, database_name - имя базы данных):"
   ]
  },
  {
   "cell_type": "code",
   "execution_count": null,
   "id": "7c81e291",
   "metadata": {},
   "outputs": [],
   "source": [
    "connection_string = \"DRIVER=SQL Server;SERVER=server_name;DATABASE=database_name;Trusted_Connection=Yes;\"\n",
    "connection_url = URL.create(\"mssql+pyodbc\", query={\"odbc_connect\": connection_string})\n",
    "engine = create_engine(connection_url)"
   ]
  },
  {
   "cell_type": "markdown",
   "id": "6fe1e6a4",
   "metadata": {},
   "source": [
    "**NOTE:** Сonnection string для других СУБД: https://docs.sqlalchemy.org/en/20/core/engines.html"
   ]
  },
  {
   "cell_type": "markdown",
   "id": "ea67e084",
   "metadata": {},
   "source": [
    "Сonnection string для ClickHouse в Yandex Cloud:"
   ]
  },
  {
   "cell_type": "code",
   "execution_count": null,
   "id": "90900a43",
   "metadata": {},
   "outputs": [],
   "source": [
    "client = Client(host='<FQDN_хоста_ClickHouse>',\n",
    "                user=os.environ['ch_user'],\n",
    "                password=os.environ['ch_pwd'],\n",
    "                port=9440,\n",
    "                secure=True,\n",
    "                verify=True,\n",
    "                ca_certs=os.environ['ch_cert'],\n",
    "                settings={\"use_numpy\":True})"
   ]
  },
  {
   "cell_type": "markdown",
   "id": "16c17e11",
   "metadata": {},
   "source": [
    "**NOTE:**\n",
    "- где <FQDN_хоста_ClickHouse> - FQDN хоста (о том, как получить FQDN хоста, см. инструкцию: https://cloud.yandex.ru/docs/managed-clickhouse/operations/connect#fqdn)\n",
    "- Предварительно необходимо создать переменные среды (для Windows: Пуск -> Изменение переменных среды текущего пользователя -> \"Создать\" переменные среды пользователя):\n",
    "    - Имя переменной: ch_user, значение переменной: имя_пользователя_БД (см. в консоли ClickHouse в Yandex Cloud)\n",
    "    - Имя переменной: ch_pwd, значение переменной: пароль_пользователя_БД (см. в консоли ClickHouse в Yandex Cloud)\n",
    "    - Имя переменной: ch_cert, значение переменной: путь к сертификату (сохраните сертификат (https://storage.yandexcloud.net/cloud-certs/RootCA.pem) в локальную папку и укажите путь к нему)\n",
    "    \n",
    "   *после создания переменных среды, нужно перезагрузить (закрыть/открыть) Python*"
   ]
  },
  {
   "cell_type": "markdown",
   "id": "dd74b39a",
   "metadata": {},
   "source": [
    "# Извлечение данных (extract)"
   ]
  },
  {
   "cell_type": "markdown",
   "id": "ce79ed55",
   "metadata": {},
   "source": [
    "Получаем данные из Microsost SQL Server (пример):"
   ]
  },
  {
   "cell_type": "code",
   "execution_count": null,
   "id": "ef1be4ad",
   "metadata": {},
   "outputs": [],
   "source": [
    "df1 = pd.read_sql(\"\"\" SELECT contractid, createdon, department\n",
    "FROM table21\n",
    "WHERE createdon >= '2023-10-01' \"\"\", engine)"
   ]
  },
  {
   "cell_type": "code",
   "execution_count": null,
   "id": "e00a75f1",
   "metadata": {},
   "outputs": [],
   "source": [
    "# выводим первые 5 строк на экран\n",
    "df1.head(5)"
   ]
  },
  {
   "cell_type": "markdown",
   "id": "042a94ba",
   "metadata": {},
   "source": [
    "Получаем данные из Excel-файла (пример):"
   ]
  },
  {
   "cell_type": "code",
   "execution_count": null,
   "id": "1c237eb9",
   "metadata": {},
   "outputs": [],
   "source": [
    "# Excel-файл содержит 2 столбца: department и region\n",
    "df2 = pd.read_excel(r'C:\\data\\Справочник регионов.xlsx')"
   ]
  },
  {
   "cell_type": "code",
   "execution_count": null,
   "id": "94a826a9",
   "metadata": {},
   "outputs": [],
   "source": [
    "# выводим первые 5 строк на экран\n",
    "df2.head(5)"
   ]
  },
  {
   "cell_type": "markdown",
   "id": "7dc2287d",
   "metadata": {},
   "source": [
    "# Преобразование данных (transform)"
   ]
  },
  {
   "cell_type": "markdown",
   "id": "db2e1bc9",
   "metadata": {},
   "source": [
    "Добавляем к выгрузке из MS SQL Server данные из Excel-файла (пример):"
   ]
  },
  {
   "cell_type": "code",
   "execution_count": null,
   "id": "4bdb7445",
   "metadata": {},
   "outputs": [],
   "source": [
    "df_final = df1.merge(df2, how='left', on='department')"
   ]
  },
  {
   "cell_type": "code",
   "execution_count": null,
   "id": "2ee46e84",
   "metadata": {
    "scrolled": true
   },
   "outputs": [],
   "source": [
    "# выводим первые 5 строк на экран\n",
    "df_final.head(5)"
   ]
  },
  {
   "cell_type": "markdown",
   "id": "ddbc24c0",
   "metadata": {},
   "source": [
    "# Загрузка данных (load)"
   ]
  },
  {
   "cell_type": "markdown",
   "id": "f4052e2a",
   "metadata": {},
   "source": [
    "Создаём таблицу в ClickHouse в Yandex Cloud **(эту строчку с кодом нужно запустить только 1 раз)** (сейчас закомментировано):"
   ]
  },
  {
   "cell_type": "code",
   "execution_count": null,
   "id": "3ded854e",
   "metadata": {},
   "outputs": [],
   "source": [
    "# client.execute(\"\"\" CREATE TABLE db1.tab1(contractid String, createdon Nullable(DateTime64), department Nullable(String), region Nullable(String), _version DateTime64 MATERIALIZED now64())\n",
    "# ENGINE = ReplacingMergeTree(_version)\n",
    "# ORDER BY contractid \"\"\")"
   ]
  },
  {
   "cell_type": "markdown",
   "id": "abcb5d7e",
   "metadata": {},
   "source": [
    "**NOTE:**\n",
    "- В данном примере создаётся таблица с движком ReplacingMergeTree, он выполняет удаление дублирующихся записей с одинаковым значением ключа сортировки (уникальность строк определяется ORDER BY секцией таблицы, а не PRIMARY KEY, см. подробнее: https://clickhouse.com/docs/ru/engines/table-engines/mergetree-family/replacingmergetree)\n",
    "- Дедупликация данных производится лишь во время слияний. Слияние происходят в фоне в неизвестный момент времени, на который вы не можете ориентироваться. Некоторая часть данных может остаться необработанной.\n",
    "- `_version DateTime64 MATERIALIZED now64()` – `_version` это вспомогательный столбец, заполняется автоматически текущей датой и временем"
   ]
  },
  {
   "cell_type": "markdown",
   "id": "d9d79970",
   "metadata": {},
   "source": [
    "Загружаем данные в созданную таблицу:"
   ]
  },
  {
   "cell_type": "code",
   "execution_count": null,
   "id": "13b83162",
   "metadata": {},
   "outputs": [],
   "source": [
    "client.insert_dataframe('INSERT INTO db1.tab1 VALUES', df_final)"
   ]
  },
  {
   "cell_type": "markdown",
   "id": "34337836",
   "metadata": {},
   "source": [
    "# Создание датасета в DataLens"
   ]
  },
  {
   "cell_type": "markdown",
   "id": "9de08953",
   "metadata": {},
   "source": [
    "Т.к. у движка ReplacingMergeTree дедупликация данных происходит в фоне в неизвестный момент времени, то для получения корректных данных из ClickHouse в DataLens, нужно создать датасет в DataLens через SQL-запрос к источнику (https://cloud.yandex.ru/docs/datalens/operations/dataset/add-data)"
   ]
  },
  {
   "cell_type": "markdown",
   "id": "672b0e3b",
   "metadata": {},
   "source": [
    "**Вариант №1**\n",
    "\n",
    "SQL-запрос возвращает только данные, которые были были загружены в последний раз:\n",
    "\n",
    "```\n",
    "SELECT contractid, createdon, department, region, _version\n",
    "FROM db1.tab1\n",
    "WHERE _version = (SELECT MAX(_version) FROM db1.tab1)\n",
    "```"
   ]
  },
  {
   "cell_type": "markdown",
   "id": "a379f077",
   "metadata": {},
   "source": [
    "**Вариант №2**\n",
    "\n",
    "SQL-запрос возвращает все данные, но для строк с одинаковым ключом – возвращается только самая последняя загруженная строка:\n",
    "\n",
    "```\n",
    "SELECT contractid, argMax(createdon, _version) as createdon, argMax(department, _version) as department, argMax(region, _version) as region, max(_version)\n",
    "FROM db1.tab1\n",
    "GROUP BY contractid\n",
    "```"
   ]
  }
 ],
 "metadata": {
  "kernelspec": {
   "display_name": "Python 3 (ipykernel)",
   "language": "python",
   "name": "python3"
  },
  "language_info": {
   "codemirror_mode": {
    "name": "ipython",
    "version": 3
   },
   "file_extension": ".py",
   "mimetype": "text/x-python",
   "name": "python",
   "nbconvert_exporter": "python",
   "pygments_lexer": "ipython3",
   "version": "3.10.5"
  }
 },
 "nbformat": 4,
 "nbformat_minor": 5
}
